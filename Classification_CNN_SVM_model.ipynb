{
 "cells": [
  {
   "cell_type": "code",
   "execution_count": 1,
   "id": "united-configuration",
   "metadata": {},
   "outputs": [],
   "source": [
    "import pickle\n",
    "import numpy as np\n",
    "\n",
    "pickle_in = open(\"X_train.pickle\",\"rb\")\n",
    "X_train = pickle.load(pickle_in)\n",
    "\n",
    "pickle_in = open(\"y_train.pickle\",\"rb\")\n",
    "y_train = pickle.load(pickle_in)\n",
    "\n",
    "X_train = np.array(X_train/255.0)\n",
    "y_train = np.array(y_train)\n",
    "\n",
    "pickle_in = open(\"X_test.pickle\",\"rb\") \n",
    "X_test = pickle.load(pickle_in)\n",
    "\n",
    "pickle_in = open(\"y_test.pickle\",\"rb\") \n",
    "y_test = pickle.load(pickle_in)\n",
    "\n",
    "X_test = np.array(X_test/255.0) \n",
    "y_test = np.array(y_test)"
   ]
  },
  {
   "cell_type": "code",
   "execution_count": 2,
   "id": "supported-first",
   "metadata": {},
   "outputs": [],
   "source": [
    "import tensorflow as tf\n",
    "from tensorflow.keras.layers import Conv2D\n",
    "from tensorflow.keras.layers import Dense\n",
    "from tensorflow.keras.regularizers import l2"
   ]
  },
  {
   "cell_type": "code",
   "execution_count": 3,
   "id": "fiscal-plane",
   "metadata": {},
   "outputs": [],
   "source": [
    "model = tf.keras.models.Sequential()\n",
    "\n",
    "model.add( tf.keras.layers.Conv2D(filters=16,padding=\"same\",kernel_size=3, activation='relu', strides=2, input_shape=X_train.shape[1:] ))\n",
    "model.add( tf.keras.layers.MaxPool2D(pool_size=2, strides=2 ))\n",
    "\n",
    "\n",
    "model.add( tf.keras.layers.Conv2D(filters=32,padding='same',kernel_size=3, activation='relu' ))\n",
    "model.add( tf.keras.layers.MaxPool2D(pool_size=2, strides=2 ))\n",
    "\n",
    "model.add( tf.keras.layers.Conv2D(filters=64,padding='same',kernel_size=3, activation='relu' ))\n",
    "model.add( tf.keras.layers.MaxPool2D(pool_size=2, strides=2 ))\n",
    "\n",
    "model.add( tf.keras.layers.Conv2D(filters=128,padding='same',kernel_size=3, activation='relu' ))\n",
    "model.add( tf.keras.layers.MaxPool2D(pool_size=2, strides=2 ))\n",
    "\n",
    "model.add( tf.keras.layers.Flatten())\n",
    "model.add( tf.keras.layers.Dense(units=256, activation='relu' ))\n",
    "model.add( tf.keras.layers.Dense(units=128, activation='relu' ))\n",
    "#model.add(tf.keras.layers.Dense(units=1, activation='sigmoid')) # for CNN_classification output\n",
    "\n",
    "model.add( Dense(1, kernel_regularizer=tf.keras.regularizers.l2(0.01), activation='linear')) #for_svm_classifier\n",
    "\n",
    "\n"
   ]
  },
  {
   "cell_type": "code",
   "execution_count": 4,
   "id": "quantitative-piano",
   "metadata": {},
   "outputs": [
    {
     "name": "stdout",
     "output_type": "stream",
     "text": [
      "Epoch 1/5\n",
      "36/36 [==============================] - 25s 704ms/step - loss: 0.5294 - accuracy: 0.6916 - val_loss: 0.2584 - val_accuracy: 0.9191\n",
      "Epoch 2/5\n",
      "36/36 [==============================] - 25s 694ms/step - loss: 0.2579 - accuracy: 0.8862 - val_loss: 0.2387 - val_accuracy: 0.9191\n",
      "Epoch 3/5\n",
      "36/36 [==============================] - 25s 693ms/step - loss: 0.1910 - accuracy: 0.9192 - val_loss: 0.1582 - val_accuracy: 0.9385\n",
      "Epoch 4/5\n",
      "36/36 [==============================] - 25s 690ms/step - loss: 0.1362 - accuracy: 0.9461 - val_loss: 0.1514 - val_accuracy: 0.9385\n",
      "Epoch 5/5\n",
      "36/36 [==============================] - 25s 698ms/step - loss: 0.0835 - accuracy: 0.9713 - val_loss: 0.1675 - val_accuracy: 0.9385\n"
     ]
    }
   ],
   "source": [
    "\n",
    "model.compile(optimizer = 'adam', loss = 'hinge', metrics = ['accuracy'])\n",
    "\n",
    "r = model.fit(X_train, y_train, batch_size = 32, epochs = 5, validation_data =(X_test, y_test))"
   ]
  },
  {
   "cell_type": "code",
   "execution_count": 5,
   "id": "final-blond",
   "metadata": {},
   "outputs": [
    {
     "data": {
      "image/png": "[encoded data removed]",
      "text/plain": [
       "<Figure size 432x288 with 1 Axes>"
      ]
     },
     "metadata": {
      "needs_background": "light"
     },
     "output_type": "display_data"
    },
    {
     "data": {
      "image/png": "[encoded data removed]",
      "text/plain": [
       "<Figure size 432x288 with 1 Axes>"
      ]
     },
     "metadata": {
      "needs_background": "light"
     },
     "output_type": "display_data"
    }
   ],
   "source": [
    "# plot the loss\n",
    "import matplotlib.pyplot as plt\n",
    "plt.plot(r.history['loss'], label='train loss')\n",
    "plt.plot(r.history['val_loss'], label='val loss')\n",
    "plt.legend()\n",
    "plt.show()\n",
    "\n",
    "\n",
    "# plot the accuracy\n",
    "plt.plot(r.history['accuracy'], label='train acc')\n",
    "plt.plot(r.history['val_accuracy'], label='val acc')\n",
    "plt.legend()\n",
    "plt.show()\n"
   ]
  },
  {
   "cell_type": "code",
   "execution_count": 6,
   "id": "moved-logging",
   "metadata": {},
   "outputs": [
    {
     "name": "stdout",
     "output_type": "stream",
     "text": [
      "Model: \"sequential\"\n",
      "_________________________________________________________________\n",
      "Layer (type)                 Output Shape              Param #   \n",
      "=================================================================\n",
      "conv2d (Conv2D)              (None, 150, 150, 16)      160       \n",
      "_________________________________________________________________\n",
      "max_pooling2d (MaxPooling2D) (None, 75, 75, 16)        0         \n",
      "_________________________________________________________________\n",
      "conv2d_1 (Conv2D)            (None, 75, 75, 32)        4640      \n",
      "_________________________________________________________________\n",
      "max_pooling2d_1 (MaxPooling2 (None, 37, 37, 32)        0         \n",
      "_________________________________________________________________\n",
      "conv2d_2 (Conv2D)            (None, 37, 37, 64)        18496     \n",
      "_________________________________________________________________\n",
      "max_pooling2d_2 (MaxPooling2 (None, 18, 18, 64)        0         \n",
      "_________________________________________________________________\n",
      "conv2d_3 (Conv2D)            (None, 18, 18, 128)       73856     \n",
      "_________________________________________________________________\n",
      "max_pooling2d_3 (MaxPooling2 (None, 9, 9, 128)         0         \n",
      "_________________________________________________________________\n",
      "flatten (Flatten)            (None, 10368)             0         \n",
      "_________________________________________________________________\n",
      "dense (Dense)                (None, 256)               2654464   \n",
      "_________________________________________________________________\n",
      "dense_1 (Dense)              (None, 128)               32896     \n",
      "_________________________________________________________________\n",
      "dense_2 (Dense)              (None, 1)                 129       \n",
      "=================================================================\n",
      "Total params: 2,784,641\n",
      "Trainable params: 2,784,641\n",
      "Non-trainable params: 0\n",
      "_________________________________________________________________\n"
     ]
    }
   ],
   "source": [
    "model.summary()"
   ]
  },
  {
   "cell_type": "code",
   "execution_count": 7,
   "id": "several-amount",
   "metadata": {},
   "outputs": [],
   "source": [
    "model.save(\"CNN_FOR_CYCLONE_DETECTION.h5\")"
   ]
  }
 ],
 "metadata": {
  "kernelspec": {
   "display_name": "gputest",
   "language": "python",
   "name": "gputest"
  },
  "language_info": {
   "codemirror_mode": {
    "name": "ipython",
    "version": 3
   },
   "file_extension": ".py",
   "mimetype": "text/x-python",
   "name": "python",
   "nbconvert_exporter": "python",
   "pygments_lexer": "ipython3",
   "version": "3.8.5"
  }
 },
 "nbformat": 4,
 "nbformat_minor": 5
}
