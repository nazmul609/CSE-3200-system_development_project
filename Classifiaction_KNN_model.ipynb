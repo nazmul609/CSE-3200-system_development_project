{
 "cells": [
  {
   "cell_type": "code",
   "execution_count": 1,
   "id": "macro-wonder",
   "metadata": {},
   "outputs": [],
   "source": [
    "import pickle\n",
    "import numpy as np\n",
    "\n",
    "pickle_in = open(\"X_train.pickle\",\"rb\")\n",
    "X_train = pickle.load(pickle_in)\n",
    "\n",
    "pickle_in = open(\"y_train.pickle\",\"rb\")\n",
    "y_train = pickle.load(pickle_in)\n",
    "\n",
    "X_train = np.array(X_train/255.0)\n",
    "y_train = np.array(y_train)\n",
    "\n",
    "pickle_in = open(\"X_test.pickle\",\"rb\") \n",
    "X_test = pickle.load(pickle_in)\n",
    "\n",
    "pickle_in = open(\"y_test.pickle\",\"rb\") \n",
    "y_test = pickle.load(pickle_in)\n",
    "\n",
    "X_test = np.array(X_test/255.0) \n",
    "y_test = np.array(y_test)"
   ]
  },
  {
   "cell_type": "code",
   "execution_count": 2,
   "id": "round-officer",
   "metadata": {},
   "outputs": [],
   "source": [
    "import tensorflow as tf\n",
    "from tensorflow.keras.layers import Conv2D\n",
    "from tensorflow.keras.layers import Dense"
   ]
  },
  {
   "cell_type": "code",
   "execution_count": 3,
   "id": "empty-student",
   "metadata": {},
   "outputs": [],
   "source": [
    "feature_extractor = tf.keras.models.Sequential()\n",
    "\n",
    "feature_extractor.add( tf.keras.layers.Conv2D(filters=16,padding=\"same\",kernel_size=3, activation='relu', strides=2, input_shape=X_train.shape[1:] ))\n",
    "feature_extractor.add( tf.keras.layers.MaxPool2D(pool_size=2, strides=2 ))\n",
    "\n",
    "\n",
    "feature_extractor.add( tf.keras.layers.Conv2D(filters=32,padding='same',kernel_size=3, activation='relu' ))\n",
    "feature_extractor.add( tf.keras.layers.MaxPool2D(pool_size=2, strides=2 ))\n",
    "\n",
    "feature_extractor.add( tf.keras.layers.Conv2D(filters=64,padding='same',kernel_size=3, activation='relu' ))\n",
    "feature_extractor.add( tf.keras.layers.MaxPool2D(pool_size=2, strides=2 ))\n",
    "\n",
    "feature_extractor.add( tf.keras.layers.Conv2D(filters=128,padding='same',kernel_size=3, activation='relu' ))\n",
    "feature_extractor.add( tf.keras.layers.MaxPool2D(pool_size=2, strides=2 ))\n",
    "\n",
    "feature_extractor.add( tf.keras.layers.Flatten())\n",
    "\n",
    "feature_extractor.add( tf.keras.layers.Dense(units=256, activation='relu' ))\n",
    "feature_extractor.add( tf.keras.layers.Dense(units=128, activation='relu' ))\n",
    "feature_extractor.add(tf.keras.layers.Dense(units=1, activation='sigmoid' ))\n",
    "\n",
    "feature_extractor.compile(optimizer='adam',\n",
    "                          loss = 'binary_crossentropy', \n",
    "                          metrics = ['accuracy'])"
   ]
  },
  {
   "cell_type": "code",
   "execution_count": 4,
   "id": "atomic-bracket",
   "metadata": {},
   "outputs": [],
   "source": [
    "from sklearn.neighbors import KNeighborsClassifier\n",
    "\n",
    "X_for_knn = feature_extractor.predict(X_train)\n",
    "knn_model=KNeighborsClassifier(n_neighbors = 7)\n"
   ]
  },
  {
   "cell_type": "code",
   "execution_count": 5,
   "id": "forbidden-ebony",
   "metadata": {},
   "outputs": [
    {
     "data": {
      "text/plain": [
       "KNeighborsClassifier(n_neighbors=7)"
      ]
     },
     "execution_count": 5,
     "metadata": {},
     "output_type": "execute_result"
    }
   ],
   "source": [
    "knn_model.fit(X_for_knn, y_train)"
   ]
  },
  {
   "cell_type": "code",
   "execution_count": 6,
   "id": "existing-title",
   "metadata": {},
   "outputs": [],
   "source": [
    "X_test_feature = feature_extractor.predict(X_test) \n",
    "prediction_knn = knn_model.predict(X_test_feature)"
   ]
  },
  {
   "cell_type": "code",
   "execution_count": 7,
   "id": "proof-cable",
   "metadata": {},
   "outputs": [
    {
     "name": "stdout",
     "output_type": "stream",
     "text": [
      "Accuracy =  0.8446601941747572\n"
     ]
    }
   ],
   "source": [
    "from sklearn import metrics\n",
    "print (\"Accuracy = \", metrics.accuracy_score(y_test, prediction_knn))"
   ]
  },
  {
   "cell_type": "code",
   "execution_count": 8,
   "id": "serial-algorithm",
   "metadata": {},
   "outputs": [
    {
     "data": {
      "text/plain": [
       "0.8095869845052293"
      ]
     },
     "execution_count": 8,
     "metadata": {},
     "output_type": "execute_result"
    }
   ],
   "source": [
    "pickle_in = open(\"X_data.pickle\",\"rb\") \n",
    "X_data = pickle.load(pickle_in)\n",
    "\n",
    "pickle_in = open(\"y_data.pickle\",\"rb\") \n",
    "y_data = pickle.load(pickle_in)\n",
    "\n",
    "X_data = np.array(X_data/255.0) \n",
    "y_data = np.array(y_data)\n",
    "\n",
    "from sklearn.model_selection import cross_val_score\n",
    "\n",
    "X = feature_extractor.predict(X_data) \n",
    "accuracies = cross_val_score(KNeighborsClassifier(n_neighbors = 7), X, y_data, cv=3)\n",
    "accuracies.mean()"
   ]
  },
  {
   "cell_type": "code",
   "execution_count": null,
   "id": "rational-protest",
   "metadata": {},
   "outputs": [],
   "source": []
  }
 ],
 "metadata": {
  "kernelspec": {
   "display_name": "gputest",
   "language": "python",
   "name": "gputest"
  },
  "language_info": {
   "codemirror_mode": {
    "name": "ipython",
    "version": 3
   },
   "file_extension": ".py",
   "mimetype": "text/x-python",
   "name": "python",
   "nbconvert_exporter": "python",
   "pygments_lexer": "ipython3",
   "version": "3.8.5"
  }
 },
 "nbformat": 4,
 "nbformat_minor": 5
}
